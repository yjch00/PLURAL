{
 "cells": [
  {
   "cell_type": "code",
   "execution_count": 1,
   "metadata": {},
   "outputs": [],
   "source": [
    "import csv\n",
    "import json\n",
    "import os\n",
    "from PIL import Image\n",
    "from io import BytesIO\n",
    "import base64\n",
    "import pandas as pd\n",
    "import pickle\n",
    "import random\n",
    "import numpy as np"
   ]
  },
  {
   "cell_type": "code",
   "execution_count": null,
   "metadata": {},
   "outputs": [],
   "source": [
    "f_train_split = pd.read_csv('/data/yjcho/OFA/dataset/reportgen_data/v2/finding/f_train.csv')\n",
    "f_valid_split = pd.read_csv('/data/yjcho/OFA/dataset/reportgen_data/v2/finding/f_valid.csv')\n",
    "f_test_split = pd.read_csv('/data/yjcho/OFA/dataset/reportgen_data/v2/finding/f_test.csv')"
   ]
  },
  {
   "cell_type": "code",
   "execution_count": 15,
   "metadata": {},
   "outputs": [
    {
     "name": "stdout",
     "output_type": "stream",
     "text": [
      "test\n",
      "valid3406\n",
      "train2078\n",
      "256001/256060\r"
     ]
    }
   ],
   "source": [
    "\n",
    "\n",
    "root = '/data/taehee/MIMIC-CXR-JPG/physionet.org/files/mimic-cxr-jpg/2.0.0/img512/'\n",
    "\n",
    "## test / valid / train\n",
    "print(\"train\")\n",
    "contents = []\n",
    "for num_id in range(len(f_train_split)):\n",
    "    if num_id % 100 == 1: print(f'{num_id}/{len(f_train_split)}', end='\\r')\n",
    "    row = f_train_split.iloc[num_id]\n",
    "    \n",
    "    #current image    \n",
    "    dicom_id = row['dicom_id']\n",
    "    study_id = str(row['study_id'])\n",
    "    patient_id = str(row['subject_id'])    \n",
    "    \n",
    "    image_path = f'p{patient_id[:2]}/p{patient_id}/s{study_id}/{dicom_id}.jpg'\n",
    "    image_path = os.path.join(root, image_path)\n",
    "    img = Image.open(image_path) # path to file\n",
    "    img_buffer = BytesIO()\n",
    "    img.save(img_buffer, format=img.format)\n",
    "    byte_data = img_buffer.getvalue()\n",
    "    base64_str = base64.b64encode(byte_data) # bytes\n",
    "    base64_str = base64_str.decode(\"utf-8\") # str\n",
    "\n",
    "    #ref image\n",
    "    ref_dicom_id = row['ref_dicom_id']\n",
    "    ref_study_id = str(int(row['ref_study_id']))\n",
    "    ref_patient_id = patient_id  \n",
    "    \n",
    "    ref_image_path = f'p{ref_patient_id[:2]}/p{ref_patient_id}/s{ref_study_id}/{ref_dicom_id}.jpg'\n",
    "    ref_image_path = os.path.join(root, ref_image_path)\n",
    "    ref_img = Image.open(ref_image_path) # path to file\n",
    "    ref_img_buffer = BytesIO()\n",
    "    ref_img.save(ref_img_buffer, format=ref_img.format)\n",
    "    ref_byte_data = ref_img_buffer.getvalue()\n",
    "    ref_base64_str = base64.b64encode(ref_byte_data) # bytes\n",
    "    ref_base64_str = ref_base64_str.decode(\"utf-8\") # str\n",
    "\n",
    "    \n",
    "    report = row['report']\n",
    "\n",
    "    contents.append([str(num_id), base64_str, report, 'what does the image describe?', ref_base64_str,'','mimic_f','caption'])\n",
    "\n",
    "random.shuffle(contents)\n",
    "f = open('/data/taehee/OFA/dataset/reportgen_data/v2/noclean_r2gen/mimic_diff_f_test.tsv','w', newline='')\n",
    "wr = csv.writer(f, delimiter='\\t')\n",
    "for content in contents:\n",
    "    wr.writerow(content)\n",
    "f.close()\n"
   ]
  }
 ],
 "metadata": {
  "kernelspec": {
   "display_name": "ofa",
   "language": "python",
   "name": "python3"
  },
  "language_info": {
   "codemirror_mode": {
    "name": "ipython",
    "version": 3
   },
   "file_extension": ".py",
   "mimetype": "text/x-python",
   "name": "python",
   "nbconvert_exporter": "python",
   "pygments_lexer": "ipython3",
   "version": "3.7.12"
  }
 },
 "nbformat": 4,
 "nbformat_minor": 2
}
